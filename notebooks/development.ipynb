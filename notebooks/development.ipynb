{
 "cells": [
  {
   "cell_type": "markdown",
   "id": "d4dd905c",
   "metadata": {},
   "source": [
    "# Notebook de desenvolvimento"
   ]
  },
  {
   "cell_type": "markdown",
   "id": "f46fd4cd",
   "metadata": {},
   "source": [
    "Foi neste notebook que delimitei o escopo da aplicação e do que veio a se tornar a classe `LLMAccountant`, em `src/llm_application`."
   ]
  },
  {
   "cell_type": "code",
   "execution_count": 15,
   "id": "1116d884",
   "metadata": {},
   "outputs": [],
   "source": [
    "import getpass\n",
    "import os\n",
    "import numpy as np\n",
    "from dotenv import load_dotenv\n",
    "from uuid import uuid4\n",
    "\n",
    "from langchain_core.messages import HumanMessage, SystemMessage\n",
    "from langchain.chat_models import init_chat_model\n",
    "from langchain_core.prompts import ChatPromptTemplate\n",
    "\n",
    "from langchain_core.documents import Document\n",
    "import pandas as pd\n",
    "\n",
    "from sklearn.model_selection import train_test_split\n",
    "from langchain_openai import OpenAIEmbeddings\n",
    "\n",
    "import faiss\n",
    "from langchain_community.docstore.in_memory import InMemoryDocstore\n",
    "from langchain_community.vectorstores import FAISS\n",
    "from langchain_core.runnables import chain\n",
    "from pydantic import BaseModel, Field\n",
    "from typing import List, Optional\n",
    "from langchain_core.tools import tool"
   ]
  },
  {
   "cell_type": "code",
   "execution_count": 16,
   "id": "65c9d44c",
   "metadata": {},
   "outputs": [],
   "source": [
    "load_dotenv(dotenv_path=\".env\", override=True)\n",
    "\n",
    "if not os.environ.get(\"OPENAI_API_KEY\"):\n",
    "  os.environ[\"OPENAI_API_KEY\"] = getpass.getpass(\"Enter API key for OpenAI: \")\n",
    "\n",
    "model = init_chat_model(\"gpt-4o-mini\", model_provider=\"openai\")"
   ]
  },
  {
   "cell_type": "code",
   "execution_count": null,
   "id": "98c198d8",
   "metadata": {},
   "outputs": [
    {
     "data": {
      "application/vnd.microsoft.datawrangler.viewer.v0+json": {
       "columns": [
        {
         "name": "index",
         "rawType": "int64",
         "type": "integer"
        },
        {
         "name": "Data",
         "rawType": "object",
         "type": "string"
        },
        {
         "name": "Descrição da Transação",
         "rawType": "object",
         "type": "string"
        },
        {
         "name": "Valor",
         "rawType": "float64",
         "type": "float"
        },
        {
         "name": "Conta Contábil",
         "rawType": "object",
         "type": "string"
        },
        {
         "name": "Justificativa LLM",
         "rawType": "object",
         "type": "string"
        },
        {
         "name": "Status",
         "rawType": "object",
         "type": "string"
        }
       ],
       "ref": "75dc0ccb-a97e-4d27-ab96-97eee585e3d3",
       "rows": [
        [
         "0",
         "01/01/2025",
         "Pagamento de aluguel da sede - Janeiro/2025",
         "5500.0",
         "Inconclusivo",
         "",
         "Pendente"
        ],
        [
         "1",
         "02/01/2025",
         "Compra de suprimentos de escritório - Papelaria X",
         "230.5",
         "Inconclusivo",
         "",
         "Pendente"
        ],
        [
         "2",
         "03/01/2025",
         "PIX recebido de Cliente ABC - Consultoria Fev",
         "15000.0",
         "Inconclusivo",
         "",
         "Pendente"
        ],
        [
         "3",
         "04/01/2025",
         "Conta de luz - Eletropaulo - Fatura jan/2025",
         "480.75",
         "Inconclusivo",
         "",
         "Pendente"
        ],
        [
         "4",
         "05/01/2025",
         "Salário do mês de Dezembro/2024 - João da Silva",
         "3000.0",
         "Inconclusivo",
         "",
         "Pendente"
        ],
        [
         "5",
         "06/01/2025",
         "Serviços de limpeza - Empresa Clean",
         "600.0",
         "Inconclusivo",
         "",
         "Pendente"
        ],
        [
         "6",
         "07/01/2025",
         "Assinatura software de gestão - Licença anual",
         "1200.0",
         "Inconclusivo",
         "",
         "Pendente"
        ],
        [
         "7",
         "08/01/2025",
         "Venda de produto XYZ - NF 00123",
         "8500.0",
         "Inconclusivo",
         "",
         "Pendente"
        ],
        [
         "8",
         "09/01/2025",
         "Manutenção de computadores - Tech Suporte",
         "350.0",
         "Inconclusivo",
         "",
         "Pendente"
        ],
        [
         "9",
         "10/01/2025",
         "Internet banda larga - Vivo Fibra",
         "180.0",
         "Inconclusivo",
         "",
         "Pendente"
        ],
        [
         "10",
         "11/01/2025",
         "Pagamento de conta de água - Sabesp",
         "120.0",
         "Inconclusivo",
         "",
         "Pendente"
        ],
        [
         "11",
         "12/01/2025",
         "Almoço de negócios - Restaurante Sabor",
         "280.0",
         "Inconclusivo",
         "",
         "Pendente"
        ],
        [
         "12",
         "13/01/2025",
         "Material de consumo cozinha - Supermercado Bom Preço",
         "95.0",
         "Inconclusivo",
         "",
         "Pendente"
        ],
        [
         "13",
         "14/01/2025",
         "Taxa bancária mensal - Banco A",
         "45.0",
         "Inconclusivo",
         "",
         "Pendente"
        ],
        [
         "14",
         "15/01/2025",
         "Receita de juros - Aplicação CDB",
         "150.0",
         "Inconclusivo",
         "",
         "Pendente"
        ],
        [
         "15",
         "16/01/2025",
         "Combustível veículo empresa - Posto Shell",
         "180.0",
         "Inconclusivo",
         "",
         "Pendente"
        ],
        [
         "16",
         "17/01/2025",
         "Compra de passagens aéreas - Viagem a serviço - Decolar",
         "950.0",
         "Inconclusivo",
         "",
         "Pendente"
        ],
        [
         "17",
         "18/01/2025",
         "Honorários contábeis - Escritório Contábil XYZ",
         "700.0",
         "Inconclusivo",
         "",
         "Pendente"
        ],
        [
         "18",
         "19/01/2025",
         "Pagamento de seguro predial - Porto Seguro",
         "400.0",
         "Inconclusivo",
         "",
         "Pendente"
        ],
        [
         "19",
         "20/01/2025",
         "Receita de aluguel de imóvel - Locação sala comercial",
         "2500.0",
         "Inconclusivo",
         "",
         "Pendente"
        ],
        [
         "20",
         "21/01/2025",
         "Despesas com correios - Envio de documentos",
         "35.0",
         "Inconclusivo",
         "",
         "Pendente"
        ],
        [
         "21",
         "22/01/2025",
         "Compra de notebooks para equipe - Loja de Eletrônicos",
         "4200.0",
         "Inconclusivo",
         "",
         "Pendente"
        ],
        [
         "22",
         "23/01/2025",
         "Serviços gráficos - Cartões de visita",
         "180.0",
         "Inconclusivo",
         "",
         "Pendente"
        ],
        [
         "23",
         "24/01/2025",
         "Recarga de celular corporativo - Vivo",
         "80.0",
         "Inconclusivo",
         "",
         "Pendente"
        ],
        [
         "24",
         "25/01/2025",
         "Despesas com estacionamento - Reunião cliente",
         "50.0",
         "Inconclusivo",
         "",
         "Pendente"
        ],
        [
         "25",
         "26/01/2025",
         "Mensalidade de plano de saúde - Unimed",
         "850.0",
         "Inconclusivo",
         "",
         "Pendente"
        ],
        [
         "26",
         "27/01/2025",
         "Compra de flores para recepção - Floricultura",
         "70.0",
         "Inconclusivo",
         "",
         "Pendente"
        ],
        [
         "27",
         "28/01/2025",
         "Treinamento de equipe - Curso de Excel",
         "600.0",
         "Inconclusivo",
         "",
         "Pendente"
        ],
        [
         "28",
         "29/01/2025",
         "Reparo de ar condicionado - Climatização LTDA",
         "450.0",
         "Inconclusivo",
         "",
         "Pendente"
        ],
        [
         "29",
         "30/01/2025",
         "Serviço de motoboy - Entrega urgente",
         "60.0",
         "Inconclusivo",
         "",
         "Pendente"
        ],
        [
         "30",
         "31/01/2025",
         "Receita de consultoria em TI - Projeto Delta",
         "18000.0",
         "Inconclusivo",
         "",
         "Pendente"
        ],
        [
         "31",
         "01/02/2025",
         "Pagamento de aluguel da sede - Fevereiro/2025",
         "5500.0",
         "Inconclusivo",
         "",
         "Pendente"
        ],
        [
         "32",
         "02/02/2025",
         "Compra de canetas e cadernos - Bazar do Escritório",
         "150.0",
         "Inconclusivo",
         "",
         "Pendente"
        ],
        [
         "33",
         "03/02/2025",
         "Transferência recebida de Cliente XYZ - Projeto Beta",
         "22000.0",
         "Inconclusivo",
         "",
         "Pendente"
        ],
        [
         "34",
         "04/02/2025",
         "Fatura de internet e telefone - Net Combo - Fev/2025",
         "320.0",
         "Inconclusivo",
         "",
         "Pendente"
        ],
        [
         "35",
         "05/02/2025",
         "Pró-labore dos sócios - Fev/2025",
         "7000.0",
         "Inconclusivo",
         "",
         "Pendente"
        ],
        [
         "36",
         "06/02/2025",
         "Reparos hidráulicos - Encanador Z",
         "280.0",
         "Inconclusivo",
         "",
         "Pendente"
        ],
        [
         "37",
         "07/02/2025",
         "Licença de software de segurança - Kaspersky",
         "500.0",
         "Inconclusivo",
         "",
         "Pendente"
        ],
        [
         "38",
         "08/02/2025",
         "Receita de vendas ecommerce - Pedido #4567",
         "10500.0",
         "Inconclusivo",
         "",
         "Pendente"
        ],
        [
         "39",
         "09/02/2025",
         "Atualização de sistema - Consultoria de TI",
         "1800.0",
         "Inconclusivo",
         "",
         "Pendente"
        ],
        [
         "40",
         "10/02/2025",
         "Mensalidade de telefonia fixa - Oi Fixo",
         "90.0",
         "Inconclusivo",
         "",
         "Pendente"
        ],
        [
         "41",
         "11/02/2025",
         "Despesas com lixo e reciclagem - Cia. Coleta",
         "80.0",
         "Inconclusivo",
         "",
         "Pendente"
        ],
        [
         "42",
         "12/02/2025",
         "Jantar com fornecedores - Churrascaria Gaúcha",
         "450.0",
         "Inconclusivo",
         "",
         "Pendente"
        ],
        [
         "43",
         "13/02/2025",
         "Produtos de limpeza para escritório - Atacadão",
         "110.0",
         "Inconclusivo",
         "",
         "Pendente"
        ],
        [
         "44",
         "14/02/2025",
         "Tarifas bancárias - TED e DOC",
         "30.0",
         "Inconclusivo",
         "",
         "Pendente"
        ],
        [
         "45",
         "15/02/2025",
         "Rendimento de aplicação financeira - LCI",
         "200.0",
         "Inconclusivo",
         "",
         "Pendente"
        ],
        [
         "46",
         "16/02/2025",
         "Abastecimento de veículo - Posto Ipiranga",
         "200.0",
         "Inconclusivo",
         "",
         "Pendente"
        ],
        [
         "47",
         "17/02/2025",
         "Passagens de ônibus - Viagem a negócios - Rodoviária",
         "110.0",
         "Inconclusivo",
         "",
         "Pendente"
        ],
        [
         "48",
         "18/02/2025",
         "Consultoria jurídica - Dr. Silva",
         "900.0",
         "Inconclusivo",
         "",
         "Pendente"
        ],
        [
         "49",
         "19/02/2025",
         "Pagamento de seguro de frota - Allianz",
         "700.0",
         "Inconclusivo",
         "",
         "Pendente"
        ]
       ],
       "shape": {
        "columns": 6,
        "rows": 181
       }
      },
      "text/html": [
       "<div>\n",
       "<style scoped>\n",
       "    .dataframe tbody tr th:only-of-type {\n",
       "        vertical-align: middle;\n",
       "    }\n",
       "\n",
       "    .dataframe tbody tr th {\n",
       "        vertical-align: top;\n",
       "    }\n",
       "\n",
       "    .dataframe thead th {\n",
       "        text-align: right;\n",
       "    }\n",
       "</style>\n",
       "<table border=\"1\" class=\"dataframe\">\n",
       "  <thead>\n",
       "    <tr style=\"text-align: right;\">\n",
       "      <th></th>\n",
       "      <th>Data</th>\n",
       "      <th>Descrição da Transação</th>\n",
       "      <th>Valor</th>\n",
       "      <th>Conta Contábil</th>\n",
       "      <th>Justificativa LLM</th>\n",
       "      <th>Status</th>\n",
       "    </tr>\n",
       "  </thead>\n",
       "  <tbody>\n",
       "    <tr>\n",
       "      <th>0</th>\n",
       "      <td>01/01/2025</td>\n",
       "      <td>Pagamento de aluguel da sede - Janeiro/2025</td>\n",
       "      <td>5500.00</td>\n",
       "      <td>Inconclusivo</td>\n",
       "      <td></td>\n",
       "      <td>Pendente</td>\n",
       "    </tr>\n",
       "    <tr>\n",
       "      <th>1</th>\n",
       "      <td>02/01/2025</td>\n",
       "      <td>Compra de suprimentos de escritório - Papelaria X</td>\n",
       "      <td>230.50</td>\n",
       "      <td>Inconclusivo</td>\n",
       "      <td></td>\n",
       "      <td>Pendente</td>\n",
       "    </tr>\n",
       "    <tr>\n",
       "      <th>2</th>\n",
       "      <td>03/01/2025</td>\n",
       "      <td>PIX recebido de Cliente ABC - Consultoria Fev</td>\n",
       "      <td>15000.00</td>\n",
       "      <td>Inconclusivo</td>\n",
       "      <td></td>\n",
       "      <td>Pendente</td>\n",
       "    </tr>\n",
       "    <tr>\n",
       "      <th>3</th>\n",
       "      <td>04/01/2025</td>\n",
       "      <td>Conta de luz - Eletropaulo - Fatura jan/2025</td>\n",
       "      <td>480.75</td>\n",
       "      <td>Inconclusivo</td>\n",
       "      <td></td>\n",
       "      <td>Pendente</td>\n",
       "    </tr>\n",
       "    <tr>\n",
       "      <th>4</th>\n",
       "      <td>05/01/2025</td>\n",
       "      <td>Salário do mês de Dezembro/2024 - João da Silva</td>\n",
       "      <td>3000.00</td>\n",
       "      <td>Inconclusivo</td>\n",
       "      <td></td>\n",
       "      <td>Pendente</td>\n",
       "    </tr>\n",
       "    <tr>\n",
       "      <th>...</th>\n",
       "      <td>...</td>\n",
       "      <td>...</td>\n",
       "      <td>...</td>\n",
       "      <td>...</td>\n",
       "      <td>...</td>\n",
       "      <td>...</td>\n",
       "    </tr>\n",
       "    <tr>\n",
       "      <th>176</th>\n",
       "      <td>26/06/2025</td>\n",
       "      <td>Plano de previdência privada - Bradesco Previd...</td>\n",
       "      <td>300.00</td>\n",
       "      <td>Inconclusivo</td>\n",
       "      <td></td>\n",
       "      <td>Pendente</td>\n",
       "    </tr>\n",
       "    <tr>\n",
       "      <th>177</th>\n",
       "      <td>27/06/2025</td>\n",
       "      <td>Compra de filtro de água - Purificador Plus</td>\n",
       "      <td>180.00</td>\n",
       "      <td>Inconclusivo</td>\n",
       "      <td></td>\n",
       "      <td>Pendente</td>\n",
       "    </tr>\n",
       "    <tr>\n",
       "      <th>178</th>\n",
       "      <td>28/06/2025</td>\n",
       "      <td>Consultoria de SEO - Rankeia Agora</td>\n",
       "      <td>900.00</td>\n",
       "      <td>Inconclusivo</td>\n",
       "      <td></td>\n",
       "      <td>Pendente</td>\n",
       "    </tr>\n",
       "    <tr>\n",
       "      <th>179</th>\n",
       "      <td>29/06/2025</td>\n",
       "      <td>Reparo de fiação elétrica - Eletro Serve</td>\n",
       "      <td>270.00</td>\n",
       "      <td>Inconclusivo</td>\n",
       "      <td></td>\n",
       "      <td>Pendente</td>\n",
       "    </tr>\n",
       "    <tr>\n",
       "      <th>180</th>\n",
       "      <td>30/06/2025</td>\n",
       "      <td>Serviço de lavanderia para uniformes - Lavande...</td>\n",
       "      <td>90.00</td>\n",
       "      <td>Inconclusivo</td>\n",
       "      <td></td>\n",
       "      <td>Pendente</td>\n",
       "    </tr>\n",
       "  </tbody>\n",
       "</table>\n",
       "<p>181 rows × 6 columns</p>\n",
       "</div>"
      ],
      "text/plain": [
       "           Data                             Descrição da Transação     Valor  \\\n",
       "0    01/01/2025        Pagamento de aluguel da sede - Janeiro/2025   5500.00   \n",
       "1    02/01/2025  Compra de suprimentos de escritório - Papelaria X    230.50   \n",
       "2    03/01/2025      PIX recebido de Cliente ABC - Consultoria Fev  15000.00   \n",
       "3    04/01/2025       Conta de luz - Eletropaulo - Fatura jan/2025    480.75   \n",
       "4    05/01/2025    Salário do mês de Dezembro/2024 - João da Silva   3000.00   \n",
       "..          ...                                                ...       ...   \n",
       "176  26/06/2025  Plano de previdência privada - Bradesco Previd...    300.00   \n",
       "177  27/06/2025        Compra de filtro de água - Purificador Plus    180.00   \n",
       "178  28/06/2025                 Consultoria de SEO - Rankeia Agora    900.00   \n",
       "179  29/06/2025           Reparo de fiação elétrica - Eletro Serve    270.00   \n",
       "180  30/06/2025  Serviço de lavanderia para uniformes - Lavande...     90.00   \n",
       "\n",
       "    Conta Contábil Justificativa LLM    Status  \n",
       "0     Inconclusivo                    Pendente  \n",
       "1     Inconclusivo                    Pendente  \n",
       "2     Inconclusivo                    Pendente  \n",
       "3     Inconclusivo                    Pendente  \n",
       "4     Inconclusivo                    Pendente  \n",
       "..             ...               ...       ...  \n",
       "176   Inconclusivo                    Pendente  \n",
       "177   Inconclusivo                    Pendente  \n",
       "178   Inconclusivo                    Pendente  \n",
       "179   Inconclusivo                    Pendente  \n",
       "180   Inconclusivo                    Pendente  \n",
       "\n",
       "[181 rows x 6 columns]"
      ]
     },
     "execution_count": 17,
     "metadata": {},
     "output_type": "execute_result"
    }
   ],
   "source": [
    "df = pd.read_csv(\"../data/input_contabil.csv\")  # Usando aqui a base sem as contas contabeis\n",
    "df['Conta Contábil'] = 'Inconclusivo'\n",
    "df['Justificativa LLM'] = ''\n",
    "df['Status'] = 'Pendente'\n",
    "df"
   ]
  },
  {
   "cell_type": "code",
   "execution_count": null,
   "id": "8932f357",
   "metadata": {},
   "outputs": [
    {
     "data": {
      "application/vnd.microsoft.datawrangler.viewer.v0+json": {
       "columns": [
        {
         "name": "index",
         "rawType": "int64",
         "type": "integer"
        },
        {
         "name": "Data",
         "rawType": "object",
         "type": "string"
        },
        {
         "name": "Descrição da Transação",
         "rawType": "object",
         "type": "string"
        },
        {
         "name": "Valor",
         "rawType": "float64",
         "type": "float"
        },
        {
         "name": "Conta Contábil",
         "rawType": "object",
         "type": "string"
        }
       ],
       "ref": "6c2f0a2b-a619-4017-8abe-9f472b7073f7",
       "rows": [
        [
         "0",
         "01/01/2025",
         "Pagamento de aluguel da sede - Janeiro/2025",
         "5500.0",
         "Despesa - Aluguel"
        ],
        [
         "1",
         "02/01/2025",
         "Compra de suprimentos de escritório - Papelaria X",
         "230.5",
         "Despesa - Materiais de Escritório"
        ],
        [
         "2",
         "03/01/2025",
         "PIX recebido de Cliente ABC - Consultoria Fev",
         "15000.0",
         "Receita - Serviços Prestados"
        ],
        [
         "3",
         "04/01/2025",
         "Conta de luz - Eletropaulo - Fatura jan/2025",
         "480.75",
         "Despesa - Energia Elétrica"
        ],
        [
         "4",
         "05/01/2025",
         "Salário do mês de Dezembro/2024 - João da Silva",
         "3000.0",
         "Despesa - Salários"
        ],
        [
         "5",
         "06/01/2025",
         "Serviços de limpeza - Empresa Clean",
         "600.0",
         "Despesa - Serviços de Manutenção"
        ],
        [
         "6",
         "07/01/2025",
         "Assinatura software de gestão - Licença anual",
         "1200.0",
         "Despesa - Softwares e Licenças"
        ],
        [
         "7",
         "08/01/2025",
         "Venda de produto XYZ - NF 00123",
         "8500.0",
         "Receita Vendas de Produtos"
        ],
        [
         "8",
         "09/01/2025",
         "Manutenção de computadores - Tech Suporte",
         "350.0",
         "Despesa - Manutenção de Equipamentos"
        ],
        [
         "9",
         "10/01/2025",
         "Internet banda larga - Vivo Fibra",
         "180.0",
         "Despesa - Internet"
        ],
        [
         "10",
         "11/01/2025",
         "Pagamento de conta de água - Sabesp",
         "120.0",
         "Despesa - Água e Esgoto"
        ],
        [
         "11",
         "12/01/2025",
         "Almoço de negócios - Restaurante Sabor",
         "280.0",
         "Despesa - Refeições"
        ],
        [
         "12",
         "13/01/2025",
         "Material de consumo cozinha - Supermercado Bom Preço",
         "95.0",
         "Despesa - Materiais de Consumo"
        ],
        [
         "13",
         "14/01/2025",
         "Taxa bancária mensal - Banco A",
         "45.0",
         "Despesa - Taxas Bancárias"
        ],
        [
         "14",
         "15/01/2025",
         "Receita de juros - Aplicação CDB",
         "150.0",
         "Receita - Financeiras"
        ],
        [
         "15",
         "16/01/2025",
         "Combustível veículo empresa - Posto Shell",
         "180.0",
         "Despesa - Combustível"
        ],
        [
         "16",
         "17/01/2025",
         "Compra de passagens aéreas - Viagem a serviço - Decolar",
         "950.0",
         "Despesa - Viagens"
        ],
        [
         "17",
         "18/01/2025",
         "Honorários contábeis - Escritório Contábil XYZ",
         "700.0",
         "Despesa - Honorários Profissionais"
        ],
        [
         "18",
         "19/01/2025",
         "Pagamento de seguro predial - Porto Seguro",
         "400.0",
         "Despesa - Seguros"
        ],
        [
         "19",
         "20/01/2025",
         "Receita de aluguel de imóvel - Locação sala comercial",
         "2500.0",
         "Receita - Aluguel"
        ],
        [
         "20",
         "21/01/2025",
         "Despesas com correios - Envio de documentos",
         "35.0",
         "Despesa - Correios e Malotes"
        ],
        [
         "21",
         "22/01/2025",
         "Compra de notebooks para equipe - Loja de Eletrônicos",
         "4200.0",
         "Despesa - Equipamentos de Informática"
        ],
        [
         "22",
         "23/01/2025",
         "Serviços gráficos - Cartões de visita",
         "180.0",
         "Despesa - Serviços Gráficos"
        ],
        [
         "23",
         "24/01/2025",
         "Recarga de celular corporativo - Vivo",
         "80.0",
         "Despesa - Telefonia"
        ],
        [
         "24",
         "25/01/2025",
         "Despesas com estacionamento - Reunião cliente",
         "50.0",
         "Despesa - Deslocamento"
        ],
        [
         "25",
         "26/01/2025",
         "Mensalidade de plano de saúde - Unimed",
         "850.0",
         "Despesa - Benefícios a Funcionários"
        ],
        [
         "26",
         "27/01/2025",
         "Compra de flores para recepção - Floricultura",
         "70.0",
         "Despesa - Despesas Administrativas"
        ],
        [
         "27",
         "28/01/2025",
         "Treinamento de equipe - Curso de Excel",
         "600.0",
         "Despesa - Treinamento e Desenvolvimento"
        ],
        [
         "28",
         "29/01/2025",
         "Reparo de ar condicionado - Climatização LTDA",
         "450.0",
         "Despesa - Manutenção Predial"
        ],
        [
         "29",
         "30/01/2025",
         "Serviço de motoboy - Entrega urgente",
         "60.0",
         "Despesa - Serviços de Entrega"
        ],
        [
         "30",
         "31/01/2025",
         "Receita de consultoria em TI - Projeto Delta",
         "18000.0",
         "Receita - Serviços Prestados"
        ],
        [
         "31",
         "01/02/2025",
         "Pagamento de aluguel da sede - Fevereiro/2025",
         "5500.0",
         "Despesa - Aluguel"
        ],
        [
         "32",
         "02/02/2025",
         "Compra de canetas e cadernos - Bazar do Escritório",
         "150.0",
         "Despesa - Materiais de Escritório"
        ],
        [
         "33",
         "03/02/2025",
         "Transferência recebida de Cliente XYZ - Projeto Beta",
         "22000.0",
         "Receita - Serviços Prestados"
        ],
        [
         "34",
         "04/02/2025",
         "Fatura de internet e telefone - Net Combo - Fev/2025",
         "320.0",
         "Despesa - Internet"
        ],
        [
         "35",
         "05/02/2025",
         "Pró-labore dos sócios - Fev/2025",
         "7000.0",
         "Despesa - Pró-labore"
        ],
        [
         "36",
         "06/02/2025",
         "Reparos hidráulicos - Encanador Z",
         "280.0",
         "Despesa - Manutenção Predial"
        ],
        [
         "37",
         "07/02/2025",
         "Licença de software de segurança - Kaspersky",
         "500.0",
         "Despesa - Softwares e Licenças"
        ],
        [
         "38",
         "08/02/2025",
         "Receita de vendas ecommerce - Pedido #4567",
         "10500.0",
         "Receita Vendas de Produtos"
        ],
        [
         "39",
         "09/02/2025",
         "Atualização de sistema - Consultoria de TI",
         "1800.0",
         "Despesa - Serviços de TI"
        ],
        [
         "40",
         "10/02/2025",
         "Mensalidade de telefonia fixa - Oi Fixo",
         "90.0",
         "Despesa - Telefonia"
        ],
        [
         "41",
         "11/02/2025",
         "Despesas com lixo e reciclagem - Cia. Coleta",
         "80.0",
         "Despesa - Despesas Administrativas"
        ],
        [
         "42",
         "12/02/2025",
         "Jantar com fornecedores - Churrascaria Gaúcha",
         "450.0",
         "Despesa - Representação"
        ],
        [
         "43",
         "13/02/2025",
         "Produtos de limpeza para escritório - Atacadão",
         "110.0",
         "Despesa - Materiais de Limpeza"
        ],
        [
         "44",
         "14/02/2025",
         "Tarifas bancárias - TED e DOC",
         "30.0",
         "Despesa - Taxas Bancárias"
        ],
        [
         "45",
         "15/02/2025",
         "Rendimento de aplicação financeira - LCI",
         "200.0",
         "Receita - Financeiras"
        ],
        [
         "46",
         "16/02/2025",
         "Abastecimento de veículo - Posto Ipiranga",
         "200.0",
         "Despesa - Combustível"
        ],
        [
         "47",
         "17/02/2025",
         "Passagens de ônibus - Viagem a negócios - Rodoviária",
         "110.0",
         "Despesa - Viagens"
        ],
        [
         "48",
         "18/02/2025",
         "Consultoria jurídica - Dr. Silva",
         "900.0",
         "Despesa - Honorários Profissionais"
        ],
        [
         "49",
         "19/02/2025",
         "Pagamento de seguro de frota - Allianz",
         "700.0",
         "Despesa - Seguros"
        ]
       ],
       "shape": {
        "columns": 4,
        "rows": 181
       }
      },
      "text/html": [
       "<div>\n",
       "<style scoped>\n",
       "    .dataframe tbody tr th:only-of-type {\n",
       "        vertical-align: middle;\n",
       "    }\n",
       "\n",
       "    .dataframe tbody tr th {\n",
       "        vertical-align: top;\n",
       "    }\n",
       "\n",
       "    .dataframe thead th {\n",
       "        text-align: right;\n",
       "    }\n",
       "</style>\n",
       "<table border=\"1\" class=\"dataframe\">\n",
       "  <thead>\n",
       "    <tr style=\"text-align: right;\">\n",
       "      <th></th>\n",
       "      <th>Data</th>\n",
       "      <th>Descrição da Transação</th>\n",
       "      <th>Valor</th>\n",
       "      <th>Conta Contábil</th>\n",
       "    </tr>\n",
       "  </thead>\n",
       "  <tbody>\n",
       "    <tr>\n",
       "      <th>0</th>\n",
       "      <td>01/01/2025</td>\n",
       "      <td>Pagamento de aluguel da sede - Janeiro/2025</td>\n",
       "      <td>5500.00</td>\n",
       "      <td>Despesa - Aluguel</td>\n",
       "    </tr>\n",
       "    <tr>\n",
       "      <th>1</th>\n",
       "      <td>02/01/2025</td>\n",
       "      <td>Compra de suprimentos de escritório - Papelaria X</td>\n",
       "      <td>230.50</td>\n",
       "      <td>Despesa - Materiais de Escritório</td>\n",
       "    </tr>\n",
       "    <tr>\n",
       "      <th>2</th>\n",
       "      <td>03/01/2025</td>\n",
       "      <td>PIX recebido de Cliente ABC - Consultoria Fev</td>\n",
       "      <td>15000.00</td>\n",
       "      <td>Receita - Serviços Prestados</td>\n",
       "    </tr>\n",
       "    <tr>\n",
       "      <th>3</th>\n",
       "      <td>04/01/2025</td>\n",
       "      <td>Conta de luz - Eletropaulo - Fatura jan/2025</td>\n",
       "      <td>480.75</td>\n",
       "      <td>Despesa - Energia Elétrica</td>\n",
       "    </tr>\n",
       "    <tr>\n",
       "      <th>4</th>\n",
       "      <td>05/01/2025</td>\n",
       "      <td>Salário do mês de Dezembro/2024 - João da Silva</td>\n",
       "      <td>3000.00</td>\n",
       "      <td>Despesa - Salários</td>\n",
       "    </tr>\n",
       "    <tr>\n",
       "      <th>...</th>\n",
       "      <td>...</td>\n",
       "      <td>...</td>\n",
       "      <td>...</td>\n",
       "      <td>...</td>\n",
       "    </tr>\n",
       "    <tr>\n",
       "      <th>176</th>\n",
       "      <td>26/06/2025</td>\n",
       "      <td>Plano de previdência privada - Bradesco Previd...</td>\n",
       "      <td>300.00</td>\n",
       "      <td>Despesa - Benefícios a Funcionários</td>\n",
       "    </tr>\n",
       "    <tr>\n",
       "      <th>177</th>\n",
       "      <td>27/06/2025</td>\n",
       "      <td>Compra de filtro de água - Purificador Plus</td>\n",
       "      <td>180.00</td>\n",
       "      <td>Despesa - Materiais de Consumo</td>\n",
       "    </tr>\n",
       "    <tr>\n",
       "      <th>178</th>\n",
       "      <td>28/06/2025</td>\n",
       "      <td>Consultoria de SEO - Rankeia Agora</td>\n",
       "      <td>900.00</td>\n",
       "      <td>Despesa - Marketing e Publicidade</td>\n",
       "    </tr>\n",
       "    <tr>\n",
       "      <th>179</th>\n",
       "      <td>29/06/2025</td>\n",
       "      <td>Reparo de fiação elétrica - Eletro Serve</td>\n",
       "      <td>270.00</td>\n",
       "      <td>Despesa - Manutenção Predial</td>\n",
       "    </tr>\n",
       "    <tr>\n",
       "      <th>180</th>\n",
       "      <td>30/06/2025</td>\n",
       "      <td>Serviço de lavanderia para uniformes - Lavande...</td>\n",
       "      <td>90.00</td>\n",
       "      <td>Despesa - Despesas Administrativas</td>\n",
       "    </tr>\n",
       "  </tbody>\n",
       "</table>\n",
       "<p>181 rows × 4 columns</p>\n",
       "</div>"
      ],
      "text/plain": [
       "           Data                             Descrição da Transação     Valor  \\\n",
       "0    01/01/2025        Pagamento de aluguel da sede - Janeiro/2025   5500.00   \n",
       "1    02/01/2025  Compra de suprimentos de escritório - Papelaria X    230.50   \n",
       "2    03/01/2025      PIX recebido de Cliente ABC - Consultoria Fev  15000.00   \n",
       "3    04/01/2025       Conta de luz - Eletropaulo - Fatura jan/2025    480.75   \n",
       "4    05/01/2025    Salário do mês de Dezembro/2024 - João da Silva   3000.00   \n",
       "..          ...                                                ...       ...   \n",
       "176  26/06/2025  Plano de previdência privada - Bradesco Previd...    300.00   \n",
       "177  27/06/2025        Compra de filtro de água - Purificador Plus    180.00   \n",
       "178  28/06/2025                 Consultoria de SEO - Rankeia Agora    900.00   \n",
       "179  29/06/2025           Reparo de fiação elétrica - Eletro Serve    270.00   \n",
       "180  30/06/2025  Serviço de lavanderia para uniformes - Lavande...     90.00   \n",
       "\n",
       "                          Conta Contábil  \n",
       "0                      Despesa - Aluguel  \n",
       "1      Despesa - Materiais de Escritório  \n",
       "2           Receita - Serviços Prestados  \n",
       "3             Despesa - Energia Elétrica  \n",
       "4                     Despesa - Salários  \n",
       "..                                   ...  \n",
       "176  Despesa - Benefícios a Funcionários  \n",
       "177       Despesa - Materiais de Consumo  \n",
       "178    Despesa - Marketing e Publicidade  \n",
       "179         Despesa - Manutenção Predial  \n",
       "180   Despesa - Despesas Administrativas  \n",
       "\n",
       "[181 rows x 4 columns]"
      ]
     },
     "execution_count": 18,
     "metadata": {},
     "output_type": "execute_result"
    }
   ],
   "source": [
    "df_class = pd.read_csv(\"../data/input_com_categorias.csv\")  # versao dos dados com as contas presentes\n",
    "df_class"
   ]
  },
  {
   "cell_type": "code",
   "execution_count": 19,
   "id": "487eff86",
   "metadata": {},
   "outputs": [],
   "source": [
    "train_df, test_df = train_test_split(df_class, test_size=0.5, random_state=42)\n",
    "# Estou injetando 50% da base de dados como conhecimento `a-priori`"
   ]
  },
  {
   "cell_type": "markdown",
   "id": "9dc46a58",
   "metadata": {},
   "source": [
    "### Algo a se salientar aqui é que existe a possibilidade de um `cold-start` nesse _framework_. Podemos simplesmente não realizar a injeção de conhecimento `a-priori`, no entanto, se isso for feito, poderemos visualizar melhor o funcionamento do classificador de LLM."
   ]
  },
  {
   "cell_type": "code",
   "execution_count": 28,
   "id": "9f5b2a70",
   "metadata": {},
   "outputs": [],
   "source": [
    "docs = [Document(page_content=row[\"Descrição da Transação\"]+ \"; Valor: R$\" + str(row[\"Valor\"]), metadata={\n",
    "    \"category\": row[\"Conta Contábil\"],\n",
    "    \"date\": row['Data'],\n",
    "    \"value\": row['Valor']\n",
    "    }) for _, row in train_df.iterrows()]"
   ]
  },
  {
   "cell_type": "code",
   "execution_count": null,
   "id": "8b0040e9",
   "metadata": {},
   "outputs": [],
   "source": [
    "doc_ids = [str(uuid4()) for _ in range(len(docs))]\n",
    "embeddings = OpenAIEmbeddings(model=\"text-embedding-3-large\")\n",
    "index = faiss.IndexFlatL2(len(embeddings.embed_query(\"test\")))\n",
    "source_of_truth = FAISS(\n",
    "    embedding_function=embeddings,\n",
    "    index=index,\n",
    "    docstore=InMemoryDocstore(),\n",
    "    index_to_docstore_id={}\n",
    ")\n",
    "source_of_truth.add_documents(docs, ids=doc_ids, verbose=True)\n",
    "\n",
    "retriever = source_of_truth.as_retriever(\n",
    "    search_type=\"mmr\",\n",
    "    search_kwargs={\n",
    "        \"k\": 10,\n",
    "        \"filter\": lambda doc: doc.get('category') != 'Inconclusivo'\n",
    "    }\n",
    ")"
   ]
  },
  {
   "cell_type": "code",
   "execution_count": null,
   "id": "d09261c2",
   "metadata": {},
   "outputs": [],
   "source": [
    "known_classes = train_df['Conta Contábil'].unique().tolist()  # lista de contas contabeis validadas pelo ser humano\n",
    "\n",
    "class ResultClassification(BaseModel):\n",
    "    category: str = Field(default=\"Inconclusivo\", description=\"Conta contábil presente na lista de classes conhecidas\")\n",
    "    explanation: str = Field(default='', description=\"Justificativa plausível para atribuição da conta contábil\")\n",
    "    confidence: float = Field(default=0, description=\"Nivel de confianca na classificacao\", ge=0.0, le=1.0)\n",
    "\n",
    "class Lancamento(BaseModel):\n",
    "    date: str = Field(description=\"Data da transação\") #TODO: include the possibility of regular payments\n",
    "    desc: str = Field(description=\"Descrição da transação contábil\")\n",
    "    value: float = Field(description=\"Valor da transação\")\n",
    "    category: ResultClassification = Field(default=None, description=\"Resultado do modelo de classificacao\")\n",
    "    categorized_by_llm: bool = Field(default=False, description=\"Indica se a classificacao foi feita por KNN ou auxiliada pelo LLM\")\n",
    "    similar_docs: List[Document] = Field(default = [], description=\"Documentos similares\")\n",
    "    status: str = Field(default=\"Pendente\", description=\"Indica se a Classificação já foi validade pelo usuário\", enum=[\"Pendente\", \"Confirmado\", \"Alterado\"])"
   ]
  },
  {
   "cell_type": "code",
   "execution_count": 23,
   "id": "02b4d632",
   "metadata": {},
   "outputs": [],
   "source": [
    "def retrieve(query: Lancamento) -> Lancamento:\n",
    "    retrieve_results = retriever.invoke(query.desc)\n",
    "    similar_docs = [doc for doc in retrieve_results]\n",
    "    query.similar_docs = similar_docs\n",
    "    return query\n",
    "\n",
    "def decide_classifier(lancamento: Lancamento) -> Lancamento:\n",
    "    similar_categories = [doc.metadata['category'] for doc in lancamento.similar_docs]\n",
    "    unq_classes, counts = np.unique(similar_categories, return_counts=True)\n",
    "    confidence = max(counts)/len(similar_categories)\n",
    "    if confidence >= 0.8:\n",
    "        lancamento.categorized_by_llm = False\n",
    "        lancamento.category = ResultClassification(\n",
    "            category=unq_classes[np.argmax(counts)],\n",
    "            explanation='',\n",
    "            confidence=confidence\n",
    "        )\n",
    "        return lancamento\n",
    "    else:\n",
    "        lancamento.categorized_by_llm = True\n",
    "        return lancamento\n",
    "    \n",
    "def route_split(lancamento: Lancamento) -> str:\n",
    "    if lancamento.categorized_by_llm:\n",
    "        return \"llm\"\n",
    "    else:\n",
    "        return \"knn\"\n",
    "\n",
    "def knn_justifier(query: Lancamento) -> Lancamento:\n",
    "    template = \"\"\"\n",
    "    Você é um assistente especializado em justificar a classificação de contas contábeis. \n",
    "    Seu papel é fornecer explicações claras e concisas para classificações de contas feitas por modelos classificadores. \n",
    "    As descricoes contem pistas (palavras-chave como \"aluguel\", \"boleto\", \"recebido\", \"Uber\") que associam a transação a uma determianda conta.\n",
    "\n",
    "    Sua resposta deve seguir exatamente esta estrutura:\n",
    "    [Justificativa breve usando características da transação e princípios contábeis]\n",
    "\n",
    "    RESTRIÇÕES:\n",
    "    - NUNCA inclua saudações, comentários adicionais ou explicações desnecessárias\n",
    "    - NUNCA questione a classificação fornecida pelo modelo IMPORTANTE!\n",
    "    - NUNCA use mais de 1 frases na justificativa\n",
    "    - NUNCA parafraseie o prompt do usuario\n",
    "    - NUNCA cite o valor da transacao a explicacao, use apenas como referencia\n",
    "    - SEMPRE a primeira palavra ja deve conter justificativa\n",
    "    - SEMPRE use terminologia contábil brasileira padrão\n",
    "    - SEMPRE mantenha foco apenas na justificativa técnica\n",
    "    - SEMPRE foque em palavras-chave\n",
    "\n",
    "    EXEMPLOS DE RESPOSTA:\n",
    "    - A descrição contém 'aluguel' e corresponde a um pagamento periódico de escritório, similar a lançamentos anteriores classificados como Despesa - Aluguel.\n",
    "    # TODO: add more examples\n",
    "\n",
    "    User:\n",
    "    - Gere uma justificativa plausível para atribuição da conta contábil '{category}' \n",
    "    para o Lançamento com a descrição '{desc}'.\n",
    "    \"\"\"\n",
    "\n",
    "    prompt = ChatPromptTemplate.from_template(template).invoke({\n",
    "            'category': query.category.category,\n",
    "            'desc': query.desc\n",
    "            }).messages[0]\n",
    "\n",
    "    explanation = model.invoke(prompt).content\n",
    "    query.category.explanation = explanation\n",
    "    return query.category\n",
    "\n",
    "\n",
    "def llm_classifier(lancamento: Lancamento) -> ResultClassification:\n",
    "    classifier = model.with_structured_output(ResultClassification)\n",
    "\n",
    "    prompt_template = \"\"\"\n",
    "        Você é um assistente especializado em classificar contas contábeis.\n",
    "        Seu papel é fornecer classificações precisas e consistentes para lançamentos contábeis com base em descrições de transações fornecidas pelo ususario.\n",
    "\n",
    "        Esta tarefa inclui as etapas de classificar - justificar - quantificar. \n",
    "\n",
    "        justificar:\n",
    "            - Gere uma explicacao clara e concisa para a classificacao gerada\n",
    "        quantificar:\n",
    "            - Gere uma metrica agnostica para a certeza que o assistente possui para a classificacao.\n",
    "            - Nao seja otimista nem pessimista, a metrica tem que refletir precisamente a quantidade de informacao disponivel.\n",
    "        classificar:\n",
    "            - Escolha uma conta contábil da lista de contas contábeis conhecidas. \n",
    "            - Se nenhuma conta conhecida se parece com a descricao isto sugere classificacao como 'Inconclusivo'.\n",
    "\n",
    "        Lista de contas contábeis conhecidas: {known_classes}\n",
    "\n",
    "        E possivel se guiar pelos meta-dados de lancamentos contabeis similares para aumentar a confianca na classificacao.\n",
    "\n",
    "        Lista de lancamentos contabeis similares: {similar_documents}\n",
    "\n",
    "        RESTRIÇÕES NAS METRICAS DE CERTEZA:\n",
    "        - SEMPRE que a classificacao for 'Inconclusivo'  a metrica de certeza deve ser igual a 0.0\n",
    "\n",
    "        RESTRIÇÕES NAS JUSTIFICATIVAS:\n",
    "        - NUNCA inclua saudações, comentários adicionais ou explicações desnecessárias\n",
    "        - NUNCA questione a classificação fornecida pelo modelo IMPORTANTE!\n",
    "        - NUNCA use mais de 1 frases na justificativa\n",
    "        - NUNCA parafraseie o prompt do usuario\n",
    "        - NUNCA cite o valor da transacao a explicacao, use apenas como referencia\n",
    "        - SEMPRE a primeira palavra ja deve conter justificativa\n",
    "        - SEMPRE use terminologia contábil brasileira padrão\n",
    "        - SEMPRE mantenha foco apenas na justificativa técnica\n",
    "        - SEMPRE foque em palavras-chave\n",
    "\n",
    "        EXEMPLOS DE JUSTIFICATIVA:\n",
    "        - A descrição contém 'aluguel' e corresponde a um pagamento periódico de escritório, similar a lançamentos anteriores classificados como Despesa - Aluguel.\n",
    "        # TODO: add more examples\n",
    "\n",
    "        Sua resposta deve seguir exatamente esta estrutura:\n",
    "        Se classificação == 'Inconclusivo':\n",
    "        - Justificativa plausivel = \"\"\n",
    "        - confianca = 0\n",
    "        Se classificação != 'Inconclusivo':\n",
    "        - Justificativa plausivel = [Justificativa breve usando características da transação e princípios contábeis]\n",
    "        - Confianca = [Valor entre 0 e 1 que reflete a quantidade de informacao existente para embasara a classe atribuida]\n",
    "\n",
    "        User:\n",
    "        - Gere uma classificacao - justificativa - quantificacao para a descricao de lancamento contabil a seguir:\n",
    "        {description}\n",
    "        \"\"\"\n",
    "    \n",
    "    prompt = ChatPromptTemplate.from_template(prompt_template).invoke(\n",
    "        {\"known_classes\": str(known_classes),\n",
    "        \"similar_documents\": \"\\n\\n\".join(\n",
    "                                (f\"Description: {doc.page_content}\\n\" f\"Metadata: {doc.metadata}\")\n",
    "                                for doc in lancamento.similar_docs\n",
    "                            ),\n",
    "        \"description\": lancamento.desc}\n",
    "    )\n",
    "\n",
    "    response = classifier.invoke(prompt)\n",
    "    if response.confidence >= 0.8 and response.category in known_classes:\n",
    "        return response\n",
    "    else:\n",
    "        return ResultClassification()\n",
    "    "
   ]
  },
  {
   "cell_type": "code",
   "execution_count": null,
   "id": "74411095",
   "metadata": {},
   "outputs": [],
   "source": [
    "from langgraph.graph import StateGraph, END\n",
    "\n",
    "workflow = StateGraph(Lancamento)  # aqui eu preferi usar o langgraph logo ao inves de conditional chain\n",
    "\n",
    "workflow.add_node(\"retrieve\", retrieve)\n",
    "workflow.add_node(\"decide_classifier\", decide_classifier)\n",
    "workflow.add_node(\"knn\", knn_justifier)\n",
    "workflow.add_node(\"llm\", llm_classifier)\n",
    "\n",
    "workflow.set_entry_point(\"retrieve\")\n",
    "workflow.add_edge(\"retrieve\", \"decide_classifier\")\n",
    "workflow.add_conditional_edges(\n",
    "    \"decide_classifier\",\n",
    "    route_split,\n",
    "    {\n",
    "        \"llm\": \"llm\",\n",
    "        \"knn\": \"knn\"\n",
    "    }\n",
    ")\n",
    "workflow.add_edge(\"llm\", END)\n",
    "workflow.add_edge(\"knn\", END)\n",
    "\n",
    "app = workflow.compile()"
   ]
  },
  {
   "cell_type": "code",
   "execution_count": null,
   "id": "4d08e6c8",
   "metadata": {},
   "outputs": [],
   "source": [
    "test = test_df.iloc[0]\n",
    "example = Lancamento(\n",
    "    date=test['Data'],\n",
    "    desc=test['Descrição da Transação'],\n",
    "    value=test['Valor'],\n",
    ")"
   ]
  },
  {
   "cell_type": "code",
   "execution_count": 27,
   "id": "3d8181cf",
   "metadata": {},
   "outputs": [
    {
     "data": {
      "text/plain": [
       "{'date': '20/01/2025',\n",
       " 'desc': 'Receita de aluguel de imóvel - Locação sala comercial',\n",
       " 'value': 2500.0,\n",
       " 'category': 'Receita - Aluguel',\n",
       " 'categorized_by_llm': True,\n",
       " 'similar_docs': [Document(id='08789b2e-d31d-4eec-828a-601eb0c67f52', metadata={'category': 'Receita - Aluguel', 'date': '20/02/2025', 'value': 1000.0}, page_content='Receita de sublocação - Parte do escritório; Valor: R$1000.0'),\n",
       "  Document(id='914d4e17-520a-4399-afbf-df078f0e284a', metadata={'category': 'Despesa - Aluguel', 'date': '01/06/2025', 'value': 5500.0}, page_content='Aluguel do espaço comercial - Junho/2025; Valor: R$5500.0'),\n",
       "  Document(id='b1ea7e43-ff11-4ae6-a73e-f7102e917ec7', metadata={'category': 'Receita - Financeiras', 'date': '15/01/2025', 'value': 150.0}, page_content='Receita de juros - Aplicação CDB; Valor: R$150.0'),\n",
       "  Document(id='0653c687-3680-423a-ab56-aeafb618042c', metadata={'category': 'Despesa - Refeições', 'date': '12/05/2025', 'value': 350.0}, page_content='Reunião almoço com equipe - Restaurante Dona Lúcia; Valor: R$350.0'),\n",
       "  Document(id='e0bc0847-e6ed-4df6-b8e6-a191e2dcafc6', metadata={'category': 'Receita - Serviços Prestados', 'date': '20/06/2025', 'value': 22000.0}, page_content='Receita de consultoria financeira - Cliente Capital; Valor: R$22000.0'),\n",
       "  Document(id='f49af337-c08a-4cec-8fa8-e66e90ffcce2', metadata={'category': 'Receita - Aluguel', 'date': '15/06/2025', 'value': 150.0}, page_content='Receita de aluguel de equipamento - Máquina de café; Valor: R$150.0'),\n",
       "  Document(id='944494d6-2882-4276-832a-064f74ccf5a4', metadata={'category': 'Despesa - Correios e Malotes', 'date': '21/01/2025', 'value': 35.0}, page_content='Despesas com correios - Envio de documentos; Valor: R$35.0'),\n",
       "  Document(id='24a9546d-570f-4b95-93f6-311d9276853e', metadata={'category': 'Despesa - Salários', 'date': '18/06/2025', 'value': 500.0}, page_content='Adiantamento salarial - Funcionário Carlos; Valor: R$500.0'),\n",
       "  Document(id='27f7fb03-c855-4cf1-afdf-f0bbc47c1bb9', metadata={'category': 'Despesa - Seguros', 'date': '19/02/2025', 'value': 700.0}, page_content='Pagamento de seguro de frota - Allianz; Valor: R$700.0'),\n",
       "  Document(id='057db691-0c96-477d-9600-81f267fa9e2e', metadata={'category': 'Despesa - Viagens', 'date': '17/06/2025', 'value': 120.0}, page_content='Táxi para aeroporto - Viagem a negócios; Valor: R$120.0')],\n",
       " 'status': 'Pendente'}"
      ]
     },
     "execution_count": 27,
     "metadata": {},
     "output_type": "execute_result"
    }
   ],
   "source": [
    "app.invoke(example)"
   ]
  },
  {
   "cell_type": "markdown",
   "id": "0ea566ee",
   "metadata": {},
   "source": [
    "### A partir daqui eu ja tinha o suficiente pra implementar a classe `LLMAccountant`, central para o projeto."
   ]
  }
 ],
 "metadata": {
  "kernelspec": {
   "display_name": "Python 3",
   "language": "python",
   "name": "python3"
  },
  "language_info": {
   "codemirror_mode": {
    "name": "ipython",
    "version": 3
   },
   "file_extension": ".py",
   "mimetype": "text/x-python",
   "name": "python",
   "nbconvert_exporter": "python",
   "pygments_lexer": "ipython3",
   "version": "3.13.5"
  }
 },
 "nbformat": 4,
 "nbformat_minor": 5
}
