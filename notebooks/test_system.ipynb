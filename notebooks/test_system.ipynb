{
 "cells": [
  {
   "cell_type": "code",
   "execution_count": 14,
   "id": "4766ec97",
   "metadata": {},
   "outputs": [],
   "source": [
    "import sys\n",
    "import os\n",
    "from pathlib import Path\n",
    "import pandas as pd\n",
    "from sklearn.model_selection import train_test_split\n",
    "import matplotlib.pyplot as plt\n",
    "import seaborn as sns\n",
    "from sklearn.metrics import confusion_matrix, classification_report, accuracy_score\n",
    "import numpy as np\n",
    "import itertools\n",
    "from sklearn.model_selection import StratifiedKFold\n",
    "from tqdm import tqdm\n",
    "import time\n",
    "\n",
    "import warnings\n",
    "warnings.filterwarnings('ignore')\n",
    "\n",
    "# Get current working directory and go up one level to project root\n",
    "PROJECT_ROOT = Path(os.getcwd()).parent\n",
    "sys.path.insert(0, str(PROJECT_ROOT))\n",
    "\n",
    "from src.llm_application import LLMAccountant, row2doc, doc2lancamento"
   ]
  },
  {
   "cell_type": "code",
   "execution_count": 15,
   "id": "50b48a62",
   "metadata": {},
   "outputs": [],
   "source": [
    "df = pd.read_csv(PROJECT_ROOT / \"data\" / \"input_com_categorias.csv\")"
   ]
  },
  {
   "cell_type": "code",
   "execution_count": 16,
   "id": "644051f2",
   "metadata": {},
   "outputs": [],
   "source": [
    "dev_df, holdout_df = train_test_split(df, test_size=0.3, random_state=42)"
   ]
  },
  {
   "cell_type": "code",
   "execution_count": 17,
   "id": "4e8a1dec",
   "metadata": {},
   "outputs": [],
   "source": [
    "k_range = range(3, 15)\n",
    "threshold_range = [i/10 for i in range(5, 10)]\n",
    "grid = list(itertools.product(k_range, threshold_range))"
   ]
  },
  {
   "cell_type": "markdown",
   "id": "fa853870",
   "metadata": {},
   "source": [
    "### O _cross-validation_ é apenas uma prova de conceito. A base de dados é muito pequena para apresentar alguma significância."
   ]
  },
  {
   "cell_type": "code",
   "execution_count": null,
   "id": "bf77eab3",
   "metadata": {},
   "outputs": [
    {
     "name": "stderr",
     "output_type": "stream",
     "text": [
      "  0%|          | 0/60 [00:00<?, ?it/s]"
     ]
    }
   ],
   "source": [
    "stratified_kfold = StratifiedKFold(n_splits=5, shuffle=True, random_state=42)\n",
    "accuracy_estimates = []\n",
    "for k, threshold in tqdm(grid):\n",
    "    accuracy_buffer = []\n",
    "    for fold, (train_idx, val_idx) in enumerate(stratified_kfold.split(dev_df, dev_df['Conta Contábil'])):\n",
    "        train_fold = dev_df.iloc[train_idx]\n",
    "        val_fold = dev_df.iloc[val_idx]\n",
    "\n",
    "        accountant = LLMAccountant(threshold=threshold, k=k)\n",
    "        train_docs = [row2doc(row) for row in train_fold.iterrows()]\n",
    "        accountant.add_source_of_truth(train_docs)\n",
    "\n",
    "        val_docs = [row2doc(row) for row in val_fold.iterrows()]\n",
    "        val_lancamentos = [doc2lancamento(doc) for doc in val_docs]\n",
    "\n",
    "        output = accountant.batch(val_lancamentos)\n",
    "\n",
    "        y_pred = [out['category'].category for out in output]\n",
    "        y = val_fold['Conta Contábil']\n",
    "        accuracy_buffer.append(accuracy_score(y, y_pred))\n",
    "        \n",
    "    accuracy_estimates.append(np.mean(accuracy_buffer))"
   ]
  },
  {
   "cell_type": "code",
   "execution_count": null,
   "id": "2be35402",
   "metadata": {},
   "outputs": [],
   "source": [
    "best_params = grid[np.argmax(accuracy_estimates)]\n",
    "best_params"
   ]
  },
  {
   "cell_type": "code",
   "execution_count": null,
   "id": "a30fe767",
   "metadata": {},
   "outputs": [],
   "source": [
    "best_accountant = LLMAccountant(threshold=0.7, k=10)\n",
    "dev_docs = [row2doc(row) for row in dev_df.iterrows()]\n",
    "accountant.add_source_of_truth(dev_docs)"
   ]
  },
  {
   "cell_type": "code",
   "execution_count": null,
   "id": "824e07c3",
   "metadata": {},
   "outputs": [],
   "source": [
    "holdout_docs = [row2doc(row) for row in holdout_df.iterrows()]\n",
    "holdout_lancamentos = [doc2lancamento(doc) for doc in holdout_docs]\n",
    "\n",
    "output = accountant.batch(holdout_lancamentos)\n",
    "y_pred = [out['category'].category for out in output]\n",
    "y = holdout_df['Conta Contábil']"
   ]
  },
  {
   "cell_type": "code",
   "execution_count": null,
   "id": "b94db0ed",
   "metadata": {},
   "outputs": [],
   "source": [
    "print(classification_report(y, y_pred))"
   ]
  },
  {
   "cell_type": "code",
   "execution_count": null,
   "id": "b7df2ed7",
   "metadata": {},
   "outputs": [],
   "source": [
    "# Calculate confusion matrix\n",
    "cm = confusion_matrix(y, y_pred)\n",
    "\n",
    "# Get unique labels for proper ordering\n",
    "labels = sorted(list(set(y) | set(y_pred)))\n",
    "\n",
    "# Create the plot\n",
    "plt.figure(figsize=(10, 8))\n",
    "sns.heatmap(cm, \n",
    "            annot=True, \n",
    "            fmt='d', \n",
    "            cmap='Blues',\n",
    "            xticklabels=labels,\n",
    "            yticklabels=labels,\n",
    "            cbar_kws={'label': 'Count'})\n",
    "\n",
    "plt.title('Confusion Matrix', fontsize=16, fontweight='bold')\n",
    "plt.xlabel('Predicted Label', fontsize=12)\n",
    "plt.ylabel('True Label', fontsize=12)\n",
    "plt.xticks(rotation=45, ha='right')\n",
    "plt.yticks(rotation=0)\n",
    "plt.tight_layout()\n",
    "plt.show()\n",
    "\n",
    "# Print accuracy\n",
    "from sklearn.metrics import accuracy_score\n",
    "print(f\"\\nAccuracy: {accuracy_score(y, y_pred):.4f}\")"
   ]
  },
  {
   "cell_type": "markdown",
   "id": "675486d1",
   "metadata": {},
   "source": [
    "Accuracy: 0.7027"
   ]
  },
  {
   "cell_type": "markdown",
   "id": "a1510f7d",
   "metadata": {},
   "source": [
    "# Oportunidades de melhoria:"
   ]
  },
  {
   "cell_type": "markdown",
   "id": "5cb7e168",
   "metadata": {},
   "source": [
    "### 1. Aqui foi selecionado o melhor modelo em termos de acurácia, mas isso não significa que este seja o melhor modelo para a aplicação. Devemos levar em conta que o LLM classifica melhor que o KNN na maioria dos casos, mas, ao mesmo tempo, apresenta um custo de execução ordens de magnitude mais alto. Uma futura aplicação dessa ideia deve considerar esse fator. Integrações com o `LangSmith` podem ajudar a encontrar um ótimo no problema do custo de geração das classes."
   ]
  },
  {
   "cell_type": "markdown",
   "id": "c2cdd79c",
   "metadata": {},
   "source": [
    "### 2. É possível melhorar o algoritmo KNN testando diferentes métricas de similaridade."
   ]
  }
 ],
 "metadata": {
  "kernelspec": {
   "display_name": "Python 3",
   "language": "python",
   "name": "python3"
  },
  "language_info": {
   "codemirror_mode": {
    "name": "ipython",
    "version": 3
   },
   "file_extension": ".py",
   "mimetype": "text/x-python",
   "name": "python",
   "nbconvert_exporter": "python",
   "pygments_lexer": "ipython3",
   "version": "3.13.5"
  }
 },
 "nbformat": 4,
 "nbformat_minor": 5
}
